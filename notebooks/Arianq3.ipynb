{
 "cells": [
  {
   "cell_type": "code",
   "execution_count": 4,
   "metadata": {
    "collapsed": false
   },
   "outputs": [
    {
     "ename": "ImportError",
     "evalue": "No module named 'quandl'",
     "output_type": "error",
     "traceback": [
      "\u001b[0;31m---------------------------------------------------------------------------\u001b[0m",
      "\u001b[0;31mImportError\u001b[0m                               Traceback (most recent call last)",
      "\u001b[0;32m<ipython-input-4-e8e797cfa451>\u001b[0m in \u001b[0;36m<module>\u001b[0;34m()\u001b[0m\n\u001b[1;32m      1\u001b[0m \u001b[0;32mimport\u001b[0m \u001b[0mpandas\u001b[0m \u001b[0;32mas\u001b[0m \u001b[0mpd\u001b[0m\u001b[0;34m\u001b[0m\u001b[0m\n\u001b[0;32m----> 2\u001b[0;31m \u001b[0;32mimport\u001b[0m \u001b[0mquandl\u001b[0m\u001b[0;34m\u001b[0m\u001b[0m\n\u001b[0m\u001b[1;32m      3\u001b[0m \u001b[0;32mimport\u001b[0m \u001b[0mnumpy\u001b[0m \u001b[0;32mas\u001b[0m \u001b[0mnp\u001b[0m\u001b[0;34m\u001b[0m\u001b[0m\n\u001b[1;32m      4\u001b[0m \u001b[0;32mimport\u001b[0m \u001b[0mmatplotlib\u001b[0m \u001b[0;32mas\u001b[0m \u001b[0mplt\u001b[0m\u001b[0;34m\u001b[0m\u001b[0m\n\u001b[1;32m      5\u001b[0m \u001b[0;34m\u001b[0m\u001b[0m\n",
      "\u001b[0;31mImportError\u001b[0m: No module named 'quandl'"
     ]
    }
   ],
   "source": [
    "import pandas as pd\n",
    "import quandl\n",
    "import numpy as np\n",
    "import matplotlib as plt\n",
    "\n",
    "#startdate=raw_input('what is the start date of the analysis YYYY-MM-DD?')\n",
    "#stopdate=raw_input(\"what is the stop date of the analysis  YYYY-MM-DD?\")\n",
    "\n",
    "quandl.ApiConfig.api_key = 'gC2qhvaCj8ha4M8vyfqC'\n",
    "#data = quandl.get('NSE/OIL')\n",
    "#data.head() # get all data\n",
    "oil = quandl.get('NSE/OIL', start_date='2016-01-01', end_date='2016-07-17',\n",
    "                  collapse='daily', transformation='rdiff',\n",
    "                  column_index=4) # Use “transform=none|diff|rdiff|cumul|normalize” to get changes, % changes, cumulative sums, or returns from 100 \n",
    "\n",
    "oilchanges = quandl.get('NSE/OIL', start_date='2016-01-01', end_date='2016-07-17',\n",
    "                  collapse='daily', transformation='rdiff',\n",
    "                  column_index=5) # Use “transform=none|diff|rdiff|cumul|normalize” to get changes, % changes, cumulative sums, or returns from 100 \n",
    "\n",
    "oilpercentchanges = quandl.get('NSE/OIL', start_date='2016-01-01', end_date='2016-07-17',\n",
    "                  collapse='daily', transformation='rdiff',\n",
    "                  rows=50,column_index=5) # Use “transform=none|diff|rdiff|cumul|normalize” to get changes, % changes, cumulative sums, or returns from 100 \n",
    "\n",
    "\n",
    "comp1 = quandl.get('wiki/BP', start_date='2016-01-01', end_date='2016-07-17',\n",
    "                  collapse='daily', transformation='rdiff',\n",
    "                  column_index=4) # return only first 5 rows\n",
    "\n",
    "#oilchangesList = oilchanges['Close'].tolist()\n",
    "oilchangesClose=oilchanges['Close']\n",
    "oilchangesVec=oilchangesClose.values\n",
    "oilchangesInd=np.sign(oilchangesVec)\n",
    "\n",
    "\n",
    "comp1changesClose=comp1['Close']\n",
    "comp1Vec=comp1changesClose.values\n",
    "comp1Ind=np.sign(comp1Vec)\n",
    "\n",
    "#corr=0;\n",
    "#for dt in oilchangesClose['Date']:\n",
    "    \n",
    "    \n",
    "#correlator=np.dot(comp1Ind,oilchangesInd)"
   ]
  },
  {
   "cell_type": "code",
   "execution_count": null,
   "metadata": {
    "collapsed": true
   },
   "outputs": [],
   "source": [
    "comp1changesClose.plot()"
   ]
  },
  {
   "cell_type": "code",
   "execution_count": 2,
   "metadata": {
    "collapsed": false
   },
   "outputs": [
    {
     "ename": "NameError",
     "evalue": "name 'comp1changesClose' is not defined",
     "output_type": "error",
     "traceback": [
      "\u001b[0;31m---------------------------------------------------------------------------\u001b[0m",
      "\u001b[0;31mNameError\u001b[0m                                 Traceback (most recent call last)",
      "\u001b[0;32m<ipython-input-2-be2262a34683>\u001b[0m in \u001b[0;36m<module>\u001b[0;34m()\u001b[0m\n\u001b[0;32m----> 1\u001b[0;31m \u001b[0mcomp1changesClose\u001b[0m\u001b[0;34m.\u001b[0m\u001b[0mplot\u001b[0m\u001b[0;34m(\u001b[0m\u001b[0;34m)\u001b[0m\u001b[0;34m\u001b[0m\u001b[0m\n\u001b[0m",
      "\u001b[0;31mNameError\u001b[0m: name 'comp1changesClose' is not defined"
     ]
    }
   ],
   "source": [
    "comp1changesClose.plot()"
   ]
  },
  {
   "cell_type": "code",
   "execution_count": null,
   "metadata": {
    "collapsed": true
   },
   "outputs": [],
   "source": []
  }
 ],
 "metadata": {
  "anaconda-cloud": {},
  "kernelspec": {
   "display_name": "Python [Root]",
   "language": "python",
   "name": "Python [Root]"
  },
  "language_info": {
   "codemirror_mode": {
    "name": "ipython",
    "version": 3
   },
   "file_extension": ".py",
   "mimetype": "text/x-python",
   "name": "python",
   "nbconvert_exporter": "python",
   "pygments_lexer": "ipython3",
   "version": "3.5.2"
  }
 },
 "nbformat": 4,
 "nbformat_minor": 0
}
